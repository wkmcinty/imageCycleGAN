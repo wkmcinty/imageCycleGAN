{
 "cells": [
  {
   "cell_type": "code",
   "execution_count": 1,
   "metadata": {},
   "outputs": [],
   "source": [
    "# This is a script to check whether the outputs of your CycleGenerator, DCDiscriminator, and\n",
    "# CycleGenerator models produce the expected outputs."
   ]
  },
  {
   "cell_type": "code",
   "execution_count": 5,
   "metadata": {},
   "outputs": [
    {
     "name": "stdout",
     "output_type": "stream",
     "text": [
      "Collecting emoji_models.ipynb\n",
      "\u001b[31m  Could not find a version that satisfies the requirement emoji_models.ipynb (from versions: )\u001b[0m\n",
      "\u001b[31mNo matching distribution found for emoji_models.ipynb\u001b[0m\n",
      "\u001b[33mYou are using pip version 9.0.1, however version 19.3.1 is available.\n",
      "You should consider upgrading via the 'pip install --upgrade pip' command.\u001b[0m\n"
     ]
    }
   ],
   "source": [
    "!pip install emoji_models.ipynb"
   ]
  },
  {
   "cell_type": "code",
   "execution_count": 3,
   "metadata": {},
   "outputs": [
    {
     "ename": "ImportError",
     "evalue": "No module named 'emoji_models'",
     "output_type": "error",
     "traceback": [
      "\u001b[0;31m---------------------------------------------------------------------------\u001b[0m",
      "\u001b[0;31mImportError\u001b[0m                               Traceback (most recent call last)",
      "\u001b[0;32m<ipython-input-3-809463fc3d96>\u001b[0m in \u001b[0;36m<module>\u001b[0;34m\u001b[0m\n\u001b[1;32m     10\u001b[0m \u001b[0;34m\u001b[0m\u001b[0m\n\u001b[1;32m     11\u001b[0m \u001b[0;31m# Local imports\u001b[0m\u001b[0;34m\u001b[0m\u001b[0;34m\u001b[0m\u001b[0m\n\u001b[0;32m---> 12\u001b[0;31m \u001b[0;32mfrom\u001b[0m \u001b[0memoji_models\u001b[0m \u001b[0;32mimport\u001b[0m \u001b[0mDCGenerator\u001b[0m\u001b[0;34m,\u001b[0m \u001b[0mDCDiscriminator\u001b[0m\u001b[0;34m,\u001b[0m \u001b[0mCycleGenerator\u001b[0m\u001b[0;34m\u001b[0m\u001b[0m\n\u001b[0m",
      "\u001b[0;31mImportError\u001b[0m: No module named 'emoji_models'"
     ]
    }
   ],
   "source": [
    "import warnings\n",
    "warnings.filterwarnings(\"ignore\")\n",
    "\n",
    "# Torch imports\n",
    "import torch\n",
    "from torch.autograd import Variable\n",
    "\n",
    "# Numpy\n",
    "import numpy as np\n",
    "\n",
    "# Local imports\n",
    "from emoji_models import DCGenerator, DCDiscriminator, CycleGenerator"
   ]
  },
  {
   "cell_type": "code",
   "execution_count": 6,
   "metadata": {},
   "outputs": [],
   "source": [
    "def count_parameters(model):\n",
    "    \"\"\"Finds the total number of trainable parameters in a model.\n",
    "    \"\"\"\n",
    "    return sum(p.numel() for p in model.parameters() if p.requires_grad)"
   ]
  },
  {
   "cell_type": "code",
   "execution_count": 7,
   "metadata": {},
   "outputs": [],
   "source": [
    "def sample_noise(dim):\n",
    "    \"\"\"\n",
    "    Generate a PyTorch Tensor of uniform random noise.\n",
    "\n",
    "    Input:\n",
    "    - batch_size: Integer giving the batch size of noise to generate.\n",
    "    - dim: Integer giving the dimension of noise to generate.\n",
    "\n",
    "    Output:\n",
    "    - A PyTorch Tensor of shape (1, dim, 1, 1) containing uniform\n",
    "      random noise in the range (-1, 1).\n",
    "    \"\"\"\n",
    "    return Variable(torch.rand(1, dim) * 2 - 1).unsqueeze(2).unsqueeze(3)"
   ]
  },
  {
   "cell_type": "code",
   "execution_count": 8,
   "metadata": {},
   "outputs": [],
   "source": [
    "def check_dc_generator():\n",
    "    \"\"\"Checks the output and number of parameters of the DCGenerator class.\n",
    "    \"\"\"\n",
    "    state = torch.load('checker_files/dc_generator.pt')\n",
    "\n",
    "    G = DCGenerator(noise_size=100, conv_dim=32)\n",
    "    G.load_state_dict(state['state_dict'])\n",
    "    noise = state['input']\n",
    "    dc_generator_expected = state['output']\n",
    "\n",
    "    output = G(noise)\n",
    "    output_np = output.data.cpu().numpy()\n",
    "\n",
    "    if np.allclose(output_np, dc_generator_expected):\n",
    "        print('DCGenerator output: EQUAL')\n",
    "    else:\n",
    "        print('DCGenerator output: NOT EQUAL')\n",
    "\n",
    "    num_params = count_parameters(G)\n",
    "    expected_params = 370624\n",
    "\n",
    "    print('DCGenerator #params = {}, expected #params = {}, {}'.format(\n",
    "          num_params, expected_params, 'EQUAL' if num_params == expected_params else 'NOT EQUAL'))\n",
    "\n",
    "    print('-' * 80)"
   ]
  },
  {
   "cell_type": "code",
   "execution_count": 9,
   "metadata": {},
   "outputs": [],
   "source": [
    "def check_dc_discriminator():\n",
    "    \"\"\"Checks the output and number of parameters of the DCDiscriminator class.\n",
    "    \"\"\"\n",
    "    state = torch.load('checker_files/dc_discriminator.pt')\n",
    "\n",
    "    D = DCDiscriminator(conv_dim=32)\n",
    "    D.load_state_dict(state['state_dict'])\n",
    "    images = state['input']\n",
    "    dc_discriminator_expected = state['output']\n",
    "\n",
    "    output = D(images)\n",
    "    output_np = output.data.cpu().numpy()\n",
    "\n",
    "    if np.allclose(output_np, dc_discriminator_expected):\n",
    "        print('DCDiscriminator output: EQUAL')\n",
    "    else:\n",
    "        print('DCDiscriminator output: NOT EQUAL')\n",
    "\n",
    "    num_params = count_parameters(D)\n",
    "    expected_params = 167872\n",
    "\n",
    "    print('DCDiscriminator #params = {}, expected #params = {}, {}'.format(\n",
    "          num_params, expected_params, 'EQUAL' if num_params == expected_params else 'NOT EQUAL'))\n",
    "\n",
    "    print('-' * 80)"
   ]
  },
  {
   "cell_type": "code",
   "execution_count": 10,
   "metadata": {},
   "outputs": [],
   "source": [
    "def check_cycle_generator():\n",
    "    \"\"\"Checks the output and number of parameters of the CycleGenerator class.\n",
    "    \"\"\"\n",
    "    state = torch.load('checker_files/cycle_generator.pt')\n",
    "\n",
    "    G_XtoY = CycleGenerator(conv_dim=32, init_zero_weights=False)\n",
    "    G_XtoY.load_state_dict(state['state_dict'])\n",
    "    images = state['input']\n",
    "    cycle_generator_expected = state['output']\n",
    "\n",
    "    output = G_XtoY(images)\n",
    "    output_np = output.data.cpu().numpy()\n",
    "\n",
    "    if np.allclose(output_np, cycle_generator_expected):\n",
    "        print('CycleGenerator output: EQUAL')\n",
    "    else:\n",
    "        print('CycleGenerator output: NOT EQUAL')\n",
    "\n",
    "    num_params = count_parameters(G_XtoY)\n",
    "    expected_params = 105856\n",
    "\n",
    "    print('CycleGenerator #params = {}, expected #params = {}, {}'.format(\n",
    "          num_params, expected_params, 'EQUAL' if num_params == expected_params else 'NOT EQUAL'))\n",
    "\n",
    "    print('-' * 80)"
   ]
  },
  {
   "cell_type": "code",
   "execution_count": 11,
   "metadata": {},
   "outputs": [
    {
     "name": "stdout",
     "output_type": "stream",
     "text": [
      "Crashed while checking DCGenerator. Maybe not implemented yet?\n",
      "Crashed while checking DCDiscriminator. Maybe not implemented yet?\n",
      "Crashed while checking CycleGenerator. Maybe not implemented yet?\n"
     ]
    }
   ],
   "source": [
    "if __name__ == '__main__':\n",
    "\n",
    "    try:\n",
    "        check_dc_generator()\n",
    "    except:\n",
    "        print('Crashed while checking DCGenerator. Maybe not implemented yet?')\n",
    "\n",
    "    try:\n",
    "        check_dc_discriminator()\n",
    "    except:\n",
    "        print('Crashed while checking DCDiscriminator. Maybe not implemented yet?')\n",
    "\n",
    "    try:\n",
    "        check_cycle_generator()\n",
    "    except:\n",
    "        print('Crashed while checking CycleGenerator. Maybe not implemented yet?')"
   ]
  },
  {
   "cell_type": "code",
   "execution_count": null,
   "metadata": {},
   "outputs": [],
   "source": []
  }
 ],
 "metadata": {
  "kernelspec": {
   "display_name": "Python 3",
   "language": "python",
   "name": "python3"
  },
  "language_info": {
   "codemirror_mode": {
    "name": "ipython",
    "version": 3
   },
   "file_extension": ".py",
   "mimetype": "text/x-python",
   "name": "python",
   "nbconvert_exporter": "python",
   "pygments_lexer": "ipython3",
   "version": "3.5.5"
  }
 },
 "nbformat": 4,
 "nbformat_minor": 2
}
