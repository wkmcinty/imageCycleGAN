{
 "cells": [
  {
   "cell_type": "code",
   "execution_count": 1,
   "metadata": {},
   "outputs": [],
   "source": [
    "import pdb\n",
    "import torch\n",
    "import torch.nn as nn\n",
    "import torch.nn.functional as F"
   ]
  },
  {
   "cell_type": "code",
   "execution_count": 2,
   "metadata": {},
   "outputs": [],
   "source": [
    "def deconv(in_channels, out_channels, kernel_size, stride=2, padding=1, batch_norm=True):\n",
    "    \"\"\"Creates a transposed-convolutional layer, with optional batch normalization.\n",
    "    \"\"\"\n",
    "    layers = []\n",
    "    layers.append(nn.ConvTranspose2d(in_channels, out_channels, kernel_size, stride, padding, bias=False))\n",
    "    if batch_norm:\n",
    "        layers.append(nn.BatchNorm2d(out_channels))\n",
    "    return nn.Sequential(*layers)\n"
   ]
  },
  {
   "cell_type": "code",
   "execution_count": 3,
   "metadata": {},
   "outputs": [],
   "source": [
    "def conv(in_channels, out_channels, kernel_size, stride=2, padding=1, batch_norm=True, init_zero_weights=False):\n",
    "    \"\"\"Creates a convolutional layer, with optional batch normalization.\n",
    "    \"\"\"\n",
    "    layers = []\n",
    "    conv_layer = nn.Conv2d(in_channels=in_channels, out_channels=out_channels, kernel_size=kernel_size, stride=stride, padding=padding, bias=False)\n",
    "    if init_zero_weights:\n",
    "        conv_layer.weight.data = torch.randn(out_channels, in_channels, kernel_size, kernel_size) * 0.001\n",
    "    layers.append(conv_layer)\n",
    "\n",
    "    if batch_norm:\n",
    "        layers.append(nn.BatchNorm2d(out_channels))\n",
    "    return nn.Sequential(*layers)"
   ]
  },
  {
   "cell_type": "code",
   "execution_count": 4,
   "metadata": {},
   "outputs": [],
   "source": [
    "class DCGenerator(nn.Module):\n",
    "    def __init__(self, noise_size, conv_dim):\n",
    "        super(DCGenerator, self).__init__()\n",
    "\n",
    "        ###########################################\n",
    "        ##   FILL THIS IN: CREATE ARCHITECTURE   ##\n",
    "        ###########################################\n",
    "\n",
    "        # self.deconv1 = deconv(...)\n",
    "        # self.deconv2 = deconv(...)\n",
    "        # self.deconv3 = deconv(...)\n",
    "        # self.deconv4 = deconv(...)\n",
    "\n",
    "    def forward(self, z):\n",
    "        \"\"\"Generates an image given a sample of random noise.\n",
    "\n",
    "            Input\n",
    "            -----\n",
    "                z: BS x noise_size x 1 x 1   -->  16x100x1x1\n",
    "\n",
    "            Output\n",
    "            ------\n",
    "                out: BS x channels x image_width x image_height  -->  16x3x32x32\n",
    "        \"\"\"\n",
    "\n",
    "        out = F.relu(self.deconv1(z))\n",
    "        out = F.relu(self.deconv2(out))\n",
    "        out = F.relu(self.deconv3(out))\n",
    "        out = F.tanh(self.deconv4(out))\n",
    "        return out"
   ]
  },
  {
   "cell_type": "code",
   "execution_count": 5,
   "metadata": {},
   "outputs": [],
   "source": [
    "class ResnetBlock(nn.Module):\n",
    "    def __init__(self, conv_dim):\n",
    "        super(ResnetBlock, self).__init__()\n",
    "        self.conv_layer = conv(in_channels=conv_dim, out_channels=conv_dim, kernel_size=3, stride=1, padding=1)\n",
    "\n",
    "    def forward(self, x):\n",
    "        out = x + self.conv_layer(x)\n",
    "        return out"
   ]
  },
  {
   "cell_type": "code",
   "execution_count": 6,
   "metadata": {},
   "outputs": [],
   "source": [
    "class CycleGenerator(nn.Module):\n",
    "    \"\"\"Defines the architecture of the generator network.\n",
    "       Note: Both generators G_XtoY and G_YtoX have the same architecture in this assignment.\n",
    "    \"\"\"\n",
    "    def __init__(self, conv_dim=64, init_zero_weights=False):\n",
    "        super(CycleGenerator, self).__init__()\n",
    "\n",
    "        ###########################################\n",
    "        ##   FILL THIS IN: CREATE ARCHITECTURE   ##\n",
    "        ###########################################\n",
    "\n",
    "        # 1. Define the encoder part of the generator (that extracts features from the input image)\n",
    "        # self.conv1 = conv(...)\n",
    "        # self.conv2 = conv(...)\n",
    "\n",
    "        # 2. Define the transformation part of the generator\n",
    "        # self.resnet_block = ...\n",
    "\n",
    "        # 3. Define the decoder part of the generator (that builds up the output image from features)\n",
    "        # self.deconv1 = deconv(...)\n",
    "        # self.deconv2 = deconv(...)\n",
    "\n",
    "    def forward(self, x):\n",
    "        \"\"\"Generates an image conditioned on an input image.\n",
    "\n",
    "            Input\n",
    "            -----\n",
    "                x: BS x 3 x 32 x 32\n",
    "\n",
    "            Output\n",
    "            ------\n",
    "                out: BS x 3 x 32 x 32\n",
    "        \"\"\"\n",
    "\n",
    "        out = F.relu(self.conv1(x))\n",
    "        out = F.relu(self.conv2(out))\n",
    "\n",
    "        out = F.relu(self.resnet_block(out))\n",
    "\n",
    "        out = F.relu(self.deconv1(out))\n",
    "        out = F.tanh(self.deconv2(out))\n",
    "\n",
    "        return out"
   ]
  },
  {
   "cell_type": "code",
   "execution_count": 7,
   "metadata": {},
   "outputs": [],
   "source": [
    "class DCDiscriminator(nn.Module):\n",
    "    \"\"\"Defines the architecture of the discriminator network.\n",
    "       Note: Both discriminators D_X and D_Y have the same architecture in this assignment.\n",
    "    \"\"\"\n",
    "    def __init__(self, conv_dim=64):\n",
    "        super(DCDiscriminator, self).__init__()\n",
    "\n",
    "        ###########################################\n",
    "        ##   FILL THIS IN: CREATE ARCHITECTURE   ##\n",
    "        ###########################################\n",
    "\n",
    "        # self.conv1 = conv(...)\n",
    "        # self.conv2 = conv(...)\n",
    "        # self.conv3 = conv(...)\n",
    "        # self.conv4 = conv(...)\n",
    "\n",
    "    def forward(self, x):\n",
    "\n",
    "        out = F.relu(self.conv1(x))\n",
    "        out = F.relu(self.conv2(out))\n",
    "        out = F.relu(self.conv3(out))\n",
    "\n",
    "        out = self.conv4(out).squeeze()\n",
    "        out = F.sigmoid(out)\n",
    "        return out\n"
   ]
  },
  {
   "cell_type": "code",
   "execution_count": null,
   "metadata": {},
   "outputs": [],
   "source": []
  }
 ],
 "metadata": {
  "kernelspec": {
   "display_name": "Python 3",
   "language": "python",
   "name": "python3"
  },
  "language_info": {
   "codemirror_mode": {
    "name": "ipython",
    "version": 3
   },
   "file_extension": ".py",
   "mimetype": "text/x-python",
   "name": "python",
   "nbconvert_exporter": "python",
   "pygments_lexer": "ipython3",
   "version": "3.5.5"
  }
 },
 "nbformat": 4,
 "nbformat_minor": 2
}
